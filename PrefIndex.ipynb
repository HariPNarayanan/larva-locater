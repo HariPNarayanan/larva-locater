{
 "cells": [
  {
   "cell_type": "code",
   "execution_count": 36,
   "metadata": {},
   "outputs": [],
   "source": [
    "import numpy as np\n",
    "import pandas as pd\n",
    "import matplotlib as plt\n",
    "import seaborn as sbs\n",
    "import os\n",
    "from os import listdir\n",
    "pd.options.mode.use_inf_as_na = True"
   ]
  },
  {
   "cell_type": "code",
   "execution_count": 37,
   "metadata": {},
   "outputs": [],
   "source": [
    "#Converting all files into a pandas dataframe of X, Y and filename\n",
    "\n",
    "filepath = r\"D:\\Experiment Work\\Behavioural Data\\Chemotaxis\\EtAc\\Conc 10-5 HighExpo\\Trial 14\"\n",
    "\n",
    "all_files = listdir(path = filepath)\n",
    "all_csv_files = [filename for filename in all_files if filename.endswith(\".csv\")]\n",
    "\n",
    "i = 0\n",
    "df_files = {}\n",
    "\n",
    "for file in all_csv_files:\n",
    "    \n",
    "    a = pd.read_csv(filepath + '\\\\' + file)\n",
    "    \n",
    "    y = a.xs('Y (cm)', axis=1)\n",
    "    x = a.xs('X (cm)', axis=1)\n",
    "    frame = a.frame\n",
    "    df_files[str(i)] = pd.DataFrame({\"Y\" : y, \"X\" : x, \"frame\" : frame, \"Source\" : file})\n",
    "\n",
    "    i = i+1\n",
    "\n",
    "complete_df = pd.concat(df_files)"
   ]
  },
  {
   "cell_type": "code",
   "execution_count": 38,
   "metadata": {},
   "outputs": [],
   "source": [
    "#Cleaning the data: ridding it of infs\n",
    "clean_complete_df = complete_df.dropna()\n"
   ]
  },
  {
   "cell_type": "code",
   "execution_count": 39,
   "metadata": {},
   "outputs": [],
   "source": [
    "#Initiating an empty column to represent side\n",
    "#Test Git\n",
    "\n",
    "clean_complete_df.insert(4, 'Side', 0)"
   ]
  },
  {
   "cell_type": "code",
   "execution_count": 40,
   "metadata": {},
   "outputs": [
    {
     "name": "stderr",
     "output_type": "stream",
     "text": [
      "C:\\Users\\hpnhp\\AppData\\Local\\Temp\\ipykernel_20812\\165706877.py:7: SettingWithCopyWarning: \n",
      "A value is trying to be set on a copy of a slice from a DataFrame\n",
      "\n",
      "See the caveats in the documentation: https://pandas.pydata.org/pandas-docs/stable/user_guide/indexing.html#returning-a-view-versus-a-copy\n",
      "  clean_complete_df.Side[i] = 0\n",
      "C:\\Users\\hpnhp\\AppData\\Local\\Temp\\ipykernel_20812\\165706877.py:5: SettingWithCopyWarning: \n",
      "A value is trying to be set on a copy of a slice from a DataFrame\n",
      "\n",
      "See the caveats in the documentation: https://pandas.pydata.org/pandas-docs/stable/user_guide/indexing.html#returning-a-view-versus-a-copy\n",
      "  clean_complete_df.Side[i] = 1\n"
     ]
    }
   ],
   "source": [
    "#Assigning preferred side based on worm position\n",
    "\n",
    "for i in clean_complete_df.index:\n",
    "    if clean_complete_df.Y[i] > 15.23:\n",
    "        clean_complete_df.Side[i] = 1\n",
    "    if clean_complete_df.Y[i] < 15.23:\n",
    "        clean_complete_df.Side[i] = 0\n"
   ]
  },
  {
   "cell_type": "code",
   "execution_count": 41,
   "metadata": {},
   "outputs": [],
   "source": [
    "#Sorting by frame (for consistency)\n",
    "clean_complete_df = clean_complete_df.sort_values(by = [\"frame\"])\n"
   ]
  },
  {
   "cell_type": "code",
   "execution_count": 42,
   "metadata": {},
   "outputs": [
    {
     "data": {
      "text/plain": [
       "-0.1899469557756551"
      ]
     },
     "execution_count": 42,
     "metadata": {},
     "output_type": "execute_result"
    }
   ],
   "source": [
    "#Computing index\n",
    "\n",
    "pref_index_list = []\n",
    "frame_index = max(clean_complete_df.frame.values)\n",
    "\n",
    "\n",
    "for f in range(0, int(frame_index)):\n",
    "    timepoint = clean_complete_df.loc[clean_complete_df.frame == f]\n",
    "    \n",
    "    num_side = timepoint.Side.sum()\n",
    "    num_opp_side = (timepoint.size/4) - timepoint.Side.sum()\n",
    "    total_number = (timepoint.size/4)\n",
    "    \n",
    "    \n",
    "    pref_index = (num_side - num_opp_side)/total_number\n",
    "    pref_index_list.append(pref_index)\n",
    "\n",
    "#Average of index\n",
    "\n",
    "av_pref_index = sum(pref_index_list)/len(pref_index_list)\n",
    "av_pref_index"
   ]
  }
 ],
 "metadata": {
  "kernelspec": {
   "display_name": "Python 3.9.13 ('base')",
   "language": "python",
   "name": "python3"
  },
  "language_info": {
   "codemirror_mode": {
    "name": "ipython",
    "version": 3
   },
   "file_extension": ".py",
   "mimetype": "text/x-python",
   "name": "python",
   "nbconvert_exporter": "python",
   "pygments_lexer": "ipython3",
   "version": "3.10.7"
  },
  "orig_nbformat": 4,
  "vscode": {
   "interpreter": {
    "hash": "a70e86368830193f93942c07b745426906d2337fbfbb34f555a5ce1fba62cf2d"
   }
  }
 },
 "nbformat": 4,
 "nbformat_minor": 2
}
